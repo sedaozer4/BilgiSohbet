{
  "nbformat": 4,
  "nbformat_minor": 0,
  "metadata": {
    "colab": {
      "provenance": [],
      "authorship_tag": "ABX9TyPPEooGjS3Re8h0dPvQ0Sy+",
      "include_colab_link": true
    },
    "kernelspec": {
      "name": "python3",
      "display_name": "Python 3"
    },
    "language_info": {
      "name": "python"
    }
  },
  "cells": [
    {
      "cell_type": "markdown",
      "metadata": {
        "id": "view-in-github",
        "colab_type": "text"
      },
      "source": [
        "<a href=\"https://colab.research.google.com/github/sedaozer4/BilgiSohbet/blob/master/Y%C3%BCzTan%C4%B1maRealTime.ipynb\" target=\"_parent\"><img src=\"https://colab.research.google.com/assets/colab-badge.svg\" alt=\"Open In Colab\"/></a>"
      ]
    },
    {
      "cell_type": "code",
      "execution_count": null,
      "metadata": {
        "id": "YTu1XV_JuIUz"
      },
      "outputs": [],
      "source": [
        "!pip install labelme tensorflow tensorflow-gpu opencv-python matplotlib albumentations\n"
      ]
    },
    {
      "cell_type": "markdown",
      "source": [
        "### 1.OpenCV Kullanarak Görüntüleri Toplama"
      ],
      "metadata": {
        "id": "GhsSBR4YvHy9"
      }
    },
    {
      "cell_type": "code",
      "source": [
        "import os\n",
        "import time\n",
        "import uuid\n",
        "import cv2"
      ],
      "metadata": {
        "id": "ttjFULBSvC7W"
      },
      "execution_count": 2,
      "outputs": []
    },
    {
      "cell_type": "code",
      "source": [
        "IMAGES_PATH = os.path.join('data','images')\n",
        "number_images = 30"
      ],
      "metadata": {
        "id": "2SjuOVHYvcwp"
      },
      "execution_count": 3,
      "outputs": []
    },
    {
      "cell_type": "code",
      "source": [
        "cap = cv2.VideoCapture(1)\n",
        "if cap.isOpened():\n",
        "  for imgnum in range(number_images):\n",
        "      print('Collecting image {}'.format(imgnum))\n",
        "      ret, frame = cap.read()\n",
        "      if ret:\n",
        "        imgname = os.path.join(IMAGES_PATH,f'{str(uuid.uuid1())}.jpg')\n",
        "        cv2.imwrite(imgname, frame)\n",
        "        cv2.imshow('frame', frame)\n",
        "        time.sleep(0.5)\n",
        "\n",
        "        if cv2.waitKey(1) & 0xFF == ord('q'):\n",
        "            break\n",
        "  cap.release()\n",
        "cv2.destroyAllWindows()"
      ],
      "metadata": {
        "id": "eEOe2qrrvpxj"
      },
      "execution_count": 7,
      "outputs": []
    },
    {
      "cell_type": "markdown",
      "source": [
        "2. LabelMe ile Görüntülere Açıklama Ekleme\n"
      ],
      "metadata": {
        "id": "vEhVyA8IxCFO"
      }
    },
    {
      "cell_type": "code",
      "source": [
        "!labelme"
      ],
      "metadata": {
        "colab": {
          "base_uri": "https://localhost:8080/"
        },
        "id": "_N_AadiSxP7o",
        "outputId": "2c976086-b386-46d6-b2f1-578ac507d543"
      },
      "execution_count": 8,
      "outputs": [
        {
          "output_type": "stream",
          "name": "stdout",
          "text": [
            "QObject::moveToThread: Current thread (0x2488050) is not the object's thread (0x2489760).\n",
            "Cannot move to target thread (0x2488050)\n",
            "\n",
            "qt.qpa.plugin: Could not load the Qt platform plugin \"xcb\" in \"/usr/local/lib/python3.8/dist-packages/cv2/qt/plugins\" even though it was found.\n",
            "This application failed to start because no Qt platform plugin could be initialized. Reinstalling the application may fix this problem.\n",
            "\n",
            "Available platform plugins are: xcb, eglfs, linuxfb, minimal, minimalegl, offscreen, vnc, wayland-egl, wayland, wayland-xcomposite-egl, wayland-xcomposite-glx, webgl.\n",
            "\n"
          ]
        }
      ]
    },
    {
      "cell_type": "markdown",
      "source": [
        "3. Veri Kümesini İnceleme ve Görüntü Yükleme İşlevini Oluşturma\n",
        "Import TF and Deps"
      ],
      "metadata": {
        "id": "_NXObJIuxTjN"
      }
    },
    {
      "cell_type": "code",
      "source": [
        "import tensorflow as tf\n",
        "import json\n",
        "import numpy as np\n",
        "from matplotlib import pyplot as plt"
      ],
      "metadata": {
        "id": "B847LvvDxhBt"
      },
      "execution_count": 9,
      "outputs": []
    },
    {
      "cell_type": "markdown",
      "source": [
        " 4.GPU Bellek Büyümesini Sınırlama"
      ],
      "metadata": {
        "id": "6eqdIIuwxo1D"
      }
    },
    {
      "cell_type": "code",
      "source": [
        "#GPU Bellek Tüketimi Büyümesini ayarlayarak OOM hatalarından kaçınma\n",
        "gpus = tf.config.experimental.list_physical_devices('GPU')\n",
        "for gpu in gpus: \n",
        "    tf.config.experimental.set_memory_growth(gpu, True)"
      ],
      "metadata": {
        "id": "xpkGKxZwxwhW"
      },
      "execution_count": 10,
      "outputs": []
    },
    {
      "cell_type": "code",
      "source": [
        "tf.config.list_physical_devices('GPU')"
      ],
      "metadata": {
        "colab": {
          "base_uri": "https://localhost:8080/"
        },
        "id": "JkymFGe9x5v9",
        "outputId": "5fd73f07-b6e3-4af4-f527-2f62630207b2"
      },
      "execution_count": 11,
      "outputs": [
        {
          "output_type": "execute_result",
          "data": {
            "text/plain": [
              "[]"
            ]
          },
          "metadata": {},
          "execution_count": 11
        }
      ]
    },
    {
      "cell_type": "markdown",
      "source": [
        "5.Görüntüyü TF Veri İşlem Hattına Yükle"
      ],
      "metadata": {
        "id": "jN8FS-p6yCNc"
      }
    },
    {
      "cell_type": "code",
      "source": [
        "images = tf.data.Dataset.list_files('data\\\\images\\\\*.jpg')"
      ],
      "metadata": {
        "id": "2tV6vJzOyEpC"
      },
      "execution_count": null,
      "outputs": []
    },
    {
      "cell_type": "code",
      "source": [
        "images.as_numpy_iterator().next()\n"
      ],
      "metadata": {
        "id": "9AreufQQzg7V"
      },
      "execution_count": null,
      "outputs": []
    },
    {
      "cell_type": "code",
      "source": [
        "def load_image(x): \n",
        "    byte_img = tf.io.read_file(x)\n",
        "    img = tf.io.decode_jpeg(byte_img)\n",
        "    return img"
      ],
      "metadata": {
        "id": "PS517oegzmQZ"
      },
      "execution_count": 20,
      "outputs": []
    },
    {
      "cell_type": "code",
      "source": [
        "images = images.map(load_image)\n"
      ],
      "metadata": {
        "id": "4mKzQ0fczobq"
      },
      "execution_count": null,
      "outputs": []
    },
    {
      "cell_type": "code",
      "source": [
        "images.as_numpy_iterator().next()\n"
      ],
      "metadata": {
        "id": "TFLz97ZqzrOC"
      },
      "execution_count": null,
      "outputs": []
    },
    {
      "cell_type": "code",
      "source": [
        "type(images)\n"
      ],
      "metadata": {
        "id": "OTaH485lzslS"
      },
      "execution_count": null,
      "outputs": []
    },
    {
      "cell_type": "markdown",
      "source": [
        "6. Ham Görüntüleri Matplotlib ile Görüntüleme"
      ],
      "metadata": {
        "id": "bErvzGIez8VF"
      }
    },
    {
      "cell_type": "code",
      "source": [
        "image_generator = images.batch(4).as_numpy_iterator()"
      ],
      "metadata": {
        "id": "_Z6e1e6q0AzV"
      },
      "execution_count": null,
      "outputs": []
    },
    {
      "cell_type": "code",
      "source": [
        "plot_images = image_generator.next()"
      ],
      "metadata": {
        "id": "SFEifFTR0GNa"
      },
      "execution_count": null,
      "outputs": []
    },
    {
      "cell_type": "code",
      "source": [
        "fig, ax = plt.subplots(ncols=4, figsize=(20,20))\n",
        "for idx, image in enumerate(plot_images):\n",
        "    ax[idx].imshow(image) \n",
        "plt.show()"
      ],
      "metadata": {
        "id": "EFcAZzPQ0IBz"
      },
      "execution_count": null,
      "outputs": []
    },
    {
      "cell_type": "markdown",
      "source": [
        "Artırılmamış Verileri Bölümleme\n",
        "\n",
        "7. VERİLERİ MANUEL OLARAK TREN TESTİNE VE DEĞERİNE BÖLÜNME\n"
      ],
      "metadata": {
        "id": "2LWZ8Elj0Rq5"
      }
    },
    {
      "cell_type": "code",
      "source": [
        "90*.7 # 63 train"
      ],
      "metadata": {
        "colab": {
          "base_uri": "https://localhost:8080/"
        },
        "id": "ck82T0FF0V3k",
        "outputId": "1f80098a-7fbf-4bc7-8636-7ae655f8cbc0"
      },
      "execution_count": 28,
      "outputs": [
        {
          "output_type": "execute_result",
          "data": {
            "text/plain": [
              "62.99999999999999"
            ]
          },
          "metadata": {},
          "execution_count": 28
        }
      ]
    },
    {
      "cell_type": "code",
      "source": [
        "90*.15 # 14 and 13 to test and val"
      ],
      "metadata": {
        "colab": {
          "base_uri": "https://localhost:8080/"
        },
        "id": "iX_Quuih0eFb",
        "outputId": "205e5c21-bec1-43be-b3d0-a5ae6d86df53"
      },
      "execution_count": 29,
      "outputs": [
        {
          "output_type": "execute_result",
          "data": {
            "text/plain": [
              "13.5"
            ]
          },
          "metadata": {},
          "execution_count": 29
        }
      ]
    },
    {
      "cell_type": "markdown",
      "source": [
        "7.Eşleşen Etiketleri Taşıma"
      ],
      "metadata": {
        "id": "V-CTTlzv0nul"
      }
    },
    {
      "cell_type": "code",
      "source": [
        "for folder in ['train','test','val']:\n",
        "    for file in os.listdir(os.path.join('data', folder, 'images')):\n",
        "        \n",
        "        filename = file.split('.')[0]+'.json'\n",
        "        existing_filepath = os.path.join('data','labels', filename)\n",
        "        if os.path.exists(existing_filepath): \n",
        "            new_filepath = os.path.join('data',folder,'labels',filename)\n",
        "            os.replace(existing_filepath, new_filepath)     "
      ],
      "metadata": {
        "id": "PWSekLnq0qdl"
      },
      "execution_count": null,
      "outputs": []
    },
    {
      "cell_type": "markdown",
      "source": [
        "8. Albümasyonları Kullanarak Görüntülere ve Etiketlere Görüntü Büyütme Uygulama\n",
        "\n",
        "Kurulum Albümasyonları Dönüştürme Ardışık Düzeni"
      ],
      "metadata": {
        "id": "j7Yk9JJ70uUD"
      }
    },
    {
      "cell_type": "code",
      "source": [
        "import albumentations as alb"
      ],
      "metadata": {
        "id": "oy_p5uIQ0x3-"
      },
      "execution_count": 31,
      "outputs": []
    },
    {
      "cell_type": "code",
      "source": [
        "augmentor = alb.Compose([alb.RandomCrop(width=450, height=450), \n",
        "                         alb.HorizontalFlip(p=0.5), \n",
        "                         alb.RandomBrightnessContrast(p=0.2),\n",
        "                         alb.RandomGamma(p=0.2), \n",
        "                         alb.RGBShift(p=0.2), \n",
        "                         alb.VerticalFlip(p=0.5)], \n",
        "                       bbox_params=alb.BboxParams(format='albumentations', \n",
        "                                                  label_fields=['class_labels']))"
      ],
      "metadata": {
        "id": "NlGAvniZ1Tfu"
      },
      "execution_count": 33,
      "outputs": []
    },
    {
      "cell_type": "markdown",
      "source": [
        "OpenCV ve JSON ile Test Görüntüsü ve Açıklama Yükleme"
      ],
      "metadata": {
        "id": "l7HVcvrQ1WUv"
      }
    },
    {
      "cell_type": "code",
      "source": [
        "img = cv2.imread(os.path.join('data','train', 'images','ffd85fc5-cc1a-11ec-bfb8-a0cec8d2d278.jpg'))\n"
      ],
      "metadata": {
        "id": "mHoIM-ap1U_-"
      },
      "execution_count": 34,
      "outputs": []
    },
    {
      "cell_type": "code",
      "source": [
        "with open(os.path.join('data', 'train', 'labels', 'ffd85fc5-cc1a-11ec-bfb8-a0cec8d2d278.json'), 'r') as f:\n",
        "    label = json.load(f)"
      ],
      "metadata": {
        "id": "7cquf3xH1dTl"
      },
      "execution_count": null,
      "outputs": []
    },
    {
      "cell_type": "code",
      "source": [
        "label['shapes'][0]['points']"
      ],
      "metadata": {
        "id": "bJU32ZY61ku3"
      },
      "execution_count": null,
      "outputs": []
    },
    {
      "cell_type": "markdown",
      "source": [
        " Koordinatları Çıkarma ve Görüntü Çözünürlüğüne Eşleşecek Şekilde Yeniden Ölçeklendirme"
      ],
      "metadata": {
        "id": "uv2l7Ls51nMW"
      }
    },
    {
      "cell_type": "code",
      "source": [
        "oords = [0,0,0,0]\n",
        "coords[0] = label['shapes'][0]['points'][0][0]\n",
        "coords[1] = label['shapes'][0]['points'][0][1]\n",
        "coords[2] = label['shapes'][0]['points'][1][0]\n",
        "coords[3] = label['shapes'][0]['points'][1][1]"
      ],
      "metadata": {
        "id": "t2fcevLw1uPf"
      },
      "execution_count": null,
      "outputs": []
    },
    {
      "cell_type": "code",
      "source": [
        "coords"
      ],
      "metadata": {
        "id": "T0gfvaL_1z3-"
      },
      "execution_count": null,
      "outputs": []
    },
    {
      "cell_type": "code",
      "source": [
        "coords = list(np.divide(coords, [640,480,640,480]))"
      ],
      "metadata": {
        "id": "3KOF6EVw139q"
      },
      "execution_count": null,
      "outputs": []
    },
    {
      "cell_type": "code",
      "source": [
        "coords"
      ],
      "metadata": {
        "id": "cG-lT8r815T3"
      },
      "execution_count": null,
      "outputs": []
    },
    {
      "cell_type": "markdown",
      "source": [
        "Büyütmeleri Uygulama ve Sonuçları Görüntüleme"
      ],
      "metadata": {
        "id": "LaTGjdWk18Dc"
      }
    },
    {
      "cell_type": "code",
      "source": [
        "augmented = augmentor(image=img, bboxes=[coords], class_labels=['face'])\n"
      ],
      "metadata": {
        "id": "QBmpCdOO2BSG"
      },
      "execution_count": null,
      "outputs": []
    },
    {
      "cell_type": "code",
      "source": [
        "augmented['bboxes'][0][2:]"
      ],
      "metadata": {
        "id": "XvljzjcS2D42"
      },
      "execution_count": null,
      "outputs": []
    },
    {
      "cell_type": "code",
      "source": [
        "augmented['bboxes']"
      ],
      "metadata": {
        "id": "BF6iuNKc2HZL"
      },
      "execution_count": null,
      "outputs": []
    },
    {
      "cell_type": "code",
      "source": [
        "cv2.rectangle(augmented['image'], \n",
        "              tuple(np.multiply(augmented['bboxes'][0][:2], [450,450]).astype(int)),\n",
        "              tuple(np.multiply(augmented['bboxes'][0][2:], [450,450]).astype(int)), \n",
        "                    (255,0,0), 2)\n",
        "\n",
        "plt.imshow(augmented['image'])"
      ],
      "metadata": {
        "id": "ihYlhema2Jwe"
      },
      "execution_count": null,
      "outputs": []
    },
    {
      "cell_type": "markdown",
      "source": [
        "Artırma Ardışık Düzeni Oluşturun ve Çalıştırma\n",
        "\n",
        "Arttırma Ardışık Düzenini Çalıştırma"
      ],
      "metadata": {
        "id": "Zan-S80Q2Owg"
      }
    },
    {
      "cell_type": "code",
      "source": [
        "for partition in ['train','test','val']: \n",
        "    for image in os.listdir(os.path.join('data', partition, 'images')):\n",
        "        img = cv2.imread(os.path.join('data', partition, 'images', image))\n",
        "\n",
        "        coords = [0,0,0.00001,0.00001]\n",
        "        label_path = os.path.join('data', partition, 'labels', f'{image.split(\".\")[0]}.json')\n",
        "        if os.path.exists(label_path):\n",
        "            with open(label_path, 'r') as f:\n",
        "                label = json.load(f)\n",
        "\n",
        "            coords[0] = label['shapes'][0]['points'][0][0]\n",
        "            coords[1] = label['shapes'][0]['points'][0][1]\n",
        "            coords[2] = label['shapes'][0]['points'][1][0]\n",
        "            coords[3] = label['shapes'][0]['points'][1][1]\n",
        "            coords = list(np.divide(coords, [640,480,640,480]))\n",
        "\n",
        "        try: \n",
        "            for x in range(60):\n",
        "                augmented = augmentor(image=img, bboxes=[coords], class_labels=['face'])\n",
        "                cv2.imwrite(os.path.join('aug_data', partition, 'images', f'{image.split(\".\")[0]}.{x}.jpg'), augmented['image'])\n",
        "\n",
        "                annotation = {}\n",
        "                annotation['image'] = image\n",
        "\n",
        "                if os.path.exists(label_path):\n",
        "                    if len(augmented['bboxes']) == 0: \n",
        "                        annotation['bbox'] = [0,0,0,0]\n",
        "                        annotation['class'] = 0 \n",
        "                    else: \n",
        "                        annotation['bbox'] = augmented['bboxes'][0]\n",
        "                        annotation['class'] = 1\n",
        "                else: \n",
        "                    annotation['bbox'] = [0,0,0,0]\n",
        "                    annotation['class'] = 0 \n",
        "\n",
        "\n",
        "                with open(os.path.join('aug_data', partition, 'labels', f'{image.split(\".\")[0]}.{x}.json'), 'w') as f:\n",
        "                    json.dump(annotation, f)\n",
        "\n",
        "        except Exception as e:\n",
        "            print(e)"
      ],
      "metadata": {
        "id": "825LJOA42N5-"
      },
      "execution_count": null,
      "outputs": []
    },
    {
      "cell_type": "markdown",
      "source": [
        "Artırılmış Görüntüleri Tensorflow Veri Kümesine Yükleme"
      ],
      "metadata": {
        "id": "nX7_5_du2irS"
      }
    },
    {
      "cell_type": "code",
      "source": [
        "train_images = tf.data.Dataset.list_files('aug_data\\\\train\\\\images\\\\*.jpg', shuffle=False)\n",
        "train_images = train_images.map(load_image)\n",
        "train_images = train_images.map(lambda x: tf.image.resize(x, (120,120)))\n",
        "train_images = train_images.map(lambda x: x/255)"
      ],
      "metadata": {
        "id": "jBIihikB2iJO"
      },
      "execution_count": null,
      "outputs": []
    },
    {
      "cell_type": "code",
      "source": [
        "test_images = tf.data.Dataset.list_files('aug_data\\\\test\\\\images\\\\*.jpg', shuffle=False)\n",
        "test_images = test_images.map(load_image)\n",
        "test_images = test_images.map(lambda x: tf.image.resize(x, (120,120)))\n",
        "test_images = test_images.map(lambda x: x/255)"
      ],
      "metadata": {
        "id": "TU0LhRNf2qLH"
      },
      "execution_count": null,
      "outputs": []
    },
    {
      "cell_type": "code",
      "source": [
        "val_images = tf.data.Dataset.list_files('aug_data\\\\val\\\\images\\\\*.jpg', shuffle=False)\n",
        "val_images = val_images.map(load_image)\n",
        "val_images = val_images.map(lambda x: tf.image.resize(x, (120,120)))\n",
        "val_images = val_images.map(lambda x: x/255)"
      ],
      "metadata": {
        "id": "ch-5akPr2r93"
      },
      "execution_count": null,
      "outputs": []
    },
    {
      "cell_type": "code",
      "source": [
        "train_images.as_numpy_iterator().next()"
      ],
      "metadata": {
        "id": "kOnhgTYR2uOB"
      },
      "execution_count": null,
      "outputs": []
    },
    {
      "cell_type": "markdown",
      "source": [
        "Etiketleri Hazırlayın\n",
        "\n",
        " Etiket Yükleme İşlevi Oluşturun"
      ],
      "metadata": {
        "id": "6LU4PW9S2xyx"
      }
    },
    {
      "cell_type": "code",
      "source": [
        "def load_labels(label_path):\n",
        "    with open(label_path.numpy(), 'r', encoding = \"utf-8\") as f:\n",
        "        label = json.load(f)\n",
        "        \n",
        "    return [label['class']], label['bbox']"
      ],
      "metadata": {
        "id": "v5-fxz-K2ziV"
      },
      "execution_count": 45,
      "outputs": []
    },
    {
      "cell_type": "markdown",
      "source": [
        "Etiketleri Tensorflow Veri Kümesine Yükleme"
      ],
      "metadata": {
        "id": "wYA70XxT25r-"
      }
    },
    {
      "cell_type": "code",
      "source": [
        "train_labels = tf.data.Dataset.list_files('aug_data\\\\train\\\\labels\\\\*.json', shuffle=False)\n",
        "train_labels = train_labels.map(lambda x: tf.py_function(load_labels, [x], [tf.uint8, tf.float16]))\n"
      ],
      "metadata": {
        "id": "wP7dC6An22bL"
      },
      "execution_count": null,
      "outputs": []
    },
    {
      "cell_type": "code",
      "source": [
        "test_labels = tf.data.Dataset.list_files('aug_data\\\\test\\\\labels\\\\*.json', shuffle=False)\n",
        "test_labels = test_labels.map(lambda x: tf.py_function(load_labels, [x], [tf.uint8, tf.float16]))\n"
      ],
      "metadata": {
        "id": "eAU8vRts3Ga3"
      },
      "execution_count": null,
      "outputs": []
    },
    {
      "cell_type": "code",
      "source": [
        "val_labels = tf.data.Dataset.list_files('aug_data\\\\val\\\\labels\\\\*.json', shuffle=False)\n",
        "val_labels = val_labels.map(lambda x: tf.py_function(load_labels, [x], [tf.uint8, tf.float16]))\n"
      ],
      "metadata": {
        "id": "sezvQpZW3JhN"
      },
      "execution_count": null,
      "outputs": []
    },
    {
      "cell_type": "code",
      "source": [
        "train_labels.as_numpy_iterator().next()\n"
      ],
      "metadata": {
        "id": "CtYfLYID3Nos"
      },
      "execution_count": null,
      "outputs": []
    },
    {
      "cell_type": "markdown",
      "source": [
        "Etiket ve Resim Örneklerini Birleştirme\n",
        "\n",
        "Bölme Uzunluklarını Kontrol Edme"
      ],
      "metadata": {
        "id": "nnX-PibV3PRG"
      }
    },
    {
      "cell_type": "code",
      "source": [
        "len(train_images), len(train_labels), len(test_images), len(test_labels), len(val_images), len(val_labels)\n"
      ],
      "metadata": {
        "id": "GRP6FHw13Uv3"
      },
      "execution_count": null,
      "outputs": []
    },
    {
      "cell_type": "markdown",
      "source": [
        "Final Veri Setlerini Oluşturun (Images/Labels)"
      ],
      "metadata": {
        "id": "5Na9cXp03Yg4"
      }
    },
    {
      "cell_type": "code",
      "source": [
        "train = tf.data.Dataset.zip((train_images, train_labels))\n",
        "train = train.shuffle(5000)\n",
        "train = train.batch(8)\n",
        "train = train.prefetch(4)"
      ],
      "metadata": {
        "id": "TFYSEf-_3WiN"
      },
      "execution_count": null,
      "outputs": []
    },
    {
      "cell_type": "code",
      "source": [
        "test = tf.data.Dataset.zip((test_images, test_labels))\n",
        "test = test.shuffle(1300)\n",
        "test = test.batch(8)\n",
        "test = test.prefetch(4)"
      ],
      "metadata": {
        "id": "MqmJSAIy3ku3"
      },
      "execution_count": null,
      "outputs": []
    },
    {
      "cell_type": "code",
      "source": [
        "val = tf.data.Dataset.zip((val_images, val_labels))\n",
        "val = val.shuffle(1000)\n",
        "val = val.batch(8)\n",
        "val = val.prefetch(4)"
      ],
      "metadata": {
        "id": "zAuR7Dyi371V"
      },
      "execution_count": null,
      "outputs": []
    },
    {
      "cell_type": "code",
      "source": [
        "train.as_numpy_iterator().next()[1]"
      ],
      "metadata": {
        "id": "dpKl9fnW39j3"
      },
      "execution_count": null,
      "outputs": []
    },
    {
      "cell_type": "markdown",
      "source": [
        "Resimleri ve Ek Açıklamaları Görüntüleme"
      ],
      "metadata": {
        "id": "4AlXR2An3_wY"
      }
    },
    {
      "cell_type": "code",
      "source": [
        "data_samples = train.as_numpy_iterator()"
      ],
      "metadata": {
        "id": "Nr-Wg2CA4D0f"
      },
      "execution_count": null,
      "outputs": []
    },
    {
      "cell_type": "code",
      "source": [
        "res = data_samples.next()\n"
      ],
      "metadata": {
        "id": "V0UfIdb94FMP"
      },
      "execution_count": null,
      "outputs": []
    },
    {
      "cell_type": "code",
      "source": [
        "fig, ax = plt.subplots(ncols=4, figsize=(20,20))\n",
        "for idx in range(4): \n",
        "    sample_image = res[0][idx]\n",
        "    sample_coords = res[1][1][idx]\n",
        "    \n",
        "    cv2.rectangle(sample_image, \n",
        "                  tuple(np.multiply(sample_coords[:2], [120,120]).astype(int)),\n",
        "                  tuple(np.multiply(sample_coords[2:], [120,120]).astype(int)), \n",
        "                        (255,0,0), 2)\n",
        "\n",
        "    ax[idx].imshow(sample_image)"
      ],
      "metadata": {
        "id": "WMQeOija4HoW"
      },
      "execution_count": null,
      "outputs": []
    },
    {
      "cell_type": "markdown",
      "source": [
        "İşlevsel API'yi kullanarak Derin Öğrenme oluşturma\n",
        "\n",
        "Katmanları ve Temel Ağı İçe Aktarma"
      ],
      "metadata": {
        "id": "gZQeRZnD4KFi"
      }
    },
    {
      "cell_type": "code",
      "source": [
        "from tensorflow.keras.models import Model\n",
        "from tensorflow.keras.layers import Input, Conv2D, Dense, GlobalMaxPooling2D\n",
        "from tensorflow.keras.applications import VGG16"
      ],
      "metadata": {
        "id": "KrdAYAIv4Rak"
      },
      "execution_count": 50,
      "outputs": []
    },
    {
      "cell_type": "markdown",
      "source": [
        "VGG16'yı indir"
      ],
      "metadata": {
        "id": "IkLDvhyK4XWa"
      }
    },
    {
      "cell_type": "code",
      "source": [
        "vgg = VGG16(include_top=False)"
      ],
      "metadata": {
        "colab": {
          "base_uri": "https://localhost:8080/"
        },
        "id": "jg2flG6O4UgX",
        "outputId": "f4a75d77-7165-4d3d-9f22-f25fb62c715f"
      },
      "execution_count": 51,
      "outputs": [
        {
          "output_type": "stream",
          "name": "stdout",
          "text": [
            "Downloading data from https://storage.googleapis.com/tensorflow/keras-applications/vgg16/vgg16_weights_tf_dim_ordering_tf_kernels_notop.h5\n",
            "58889256/58889256 [==============================] - 0s 0us/step\n"
          ]
        }
      ]
    },
    {
      "cell_type": "code",
      "source": [
        "vgg.summary()"
      ],
      "metadata": {
        "colab": {
          "base_uri": "https://localhost:8080/"
        },
        "id": "JA7DKHFA4a7l",
        "outputId": "e272df16-2b8e-4dbe-cf13-d2abd9f697af"
      },
      "execution_count": 52,
      "outputs": [
        {
          "output_type": "stream",
          "name": "stdout",
          "text": [
            "Model: \"vgg16\"\n",
            "_________________________________________________________________\n",
            " Layer (type)                Output Shape              Param #   \n",
            "=================================================================\n",
            " input_1 (InputLayer)        [(None, None, None, 3)]   0         \n",
            "                                                                 \n",
            " block1_conv1 (Conv2D)       (None, None, None, 64)    1792      \n",
            "                                                                 \n",
            " block1_conv2 (Conv2D)       (None, None, None, 64)    36928     \n",
            "                                                                 \n",
            " block1_pool (MaxPooling2D)  (None, None, None, 64)    0         \n",
            "                                                                 \n",
            " block2_conv1 (Conv2D)       (None, None, None, 128)   73856     \n",
            "                                                                 \n",
            " block2_conv2 (Conv2D)       (None, None, None, 128)   147584    \n",
            "                                                                 \n",
            " block2_pool (MaxPooling2D)  (None, None, None, 128)   0         \n",
            "                                                                 \n",
            " block3_conv1 (Conv2D)       (None, None, None, 256)   295168    \n",
            "                                                                 \n",
            " block3_conv2 (Conv2D)       (None, None, None, 256)   590080    \n",
            "                                                                 \n",
            " block3_conv3 (Conv2D)       (None, None, None, 256)   590080    \n",
            "                                                                 \n",
            " block3_pool (MaxPooling2D)  (None, None, None, 256)   0         \n",
            "                                                                 \n",
            " block4_conv1 (Conv2D)       (None, None, None, 512)   1180160   \n",
            "                                                                 \n",
            " block4_conv2 (Conv2D)       (None, None, None, 512)   2359808   \n",
            "                                                                 \n",
            " block4_conv3 (Conv2D)       (None, None, None, 512)   2359808   \n",
            "                                                                 \n",
            " block4_pool (MaxPooling2D)  (None, None, None, 512)   0         \n",
            "                                                                 \n",
            " block5_conv1 (Conv2D)       (None, None, None, 512)   2359808   \n",
            "                                                                 \n",
            " block5_conv2 (Conv2D)       (None, None, None, 512)   2359808   \n",
            "                                                                 \n",
            " block5_conv3 (Conv2D)       (None, None, None, 512)   2359808   \n",
            "                                                                 \n",
            " block5_pool (MaxPooling2D)  (None, None, None, 512)   0         \n",
            "                                                                 \n",
            "=================================================================\n",
            "Total params: 14,714,688\n",
            "Trainable params: 14,714,688\n",
            "Non-trainable params: 0\n",
            "_________________________________________________________________\n"
          ]
        }
      ]
    },
    {
      "cell_type": "markdown",
      "source": [
        "Ağ örneğini oluşturma"
      ],
      "metadata": {
        "id": "YaU98Pw94e2E"
      }
    },
    {
      "cell_type": "code",
      "source": [
        "def build_model(): \n",
        "    input_layer = Input(shape=(120,120,3))\n",
        "    \n",
        "    vgg = VGG16(include_top=False)(input_layer)\n",
        "\n",
        "    # Classification Model  \n",
        "    f1 = GlobalMaxPooling2D()(vgg)\n",
        "    class1 = Dense(2048, activation='relu')(f1)\n",
        "    class2 = Dense(1, activation='sigmoid')(class1)\n",
        "    \n",
        "    # Bounding box model\n",
        "    f2 = GlobalMaxPooling2D()(vgg)\n",
        "    regress1 = Dense(2048, activation='relu')(f2)\n",
        "    regress2 = Dense(4, activation='sigmoid')(regress1)\n",
        "    \n",
        "    facetracker = Model(inputs=input_layer, outputs=[class2, regress2])\n",
        "    return facetracker"
      ],
      "metadata": {
        "id": "9PhSbJ3Z4iTj"
      },
      "execution_count": 53,
      "outputs": []
    },
    {
      "cell_type": "markdown",
      "source": [
        "Neural Network'ü test etme"
      ],
      "metadata": {
        "id": "NIhfaPE34k46"
      }
    },
    {
      "cell_type": "code",
      "source": [
        "facetracker = build_model()\n"
      ],
      "metadata": {
        "id": "IzpIvIAA4o7z"
      },
      "execution_count": 54,
      "outputs": []
    },
    {
      "cell_type": "code",
      "source": [
        "facetracker.summary()"
      ],
      "metadata": {
        "colab": {
          "base_uri": "https://localhost:8080/"
        },
        "id": "mniGbrUx4tLv",
        "outputId": "fbd7de22-ab63-486a-f996-a80ac3cc8eed"
      },
      "execution_count": 55,
      "outputs": [
        {
          "output_type": "stream",
          "name": "stdout",
          "text": [
            "Model: \"model\"\n",
            "__________________________________________________________________________________________________\n",
            " Layer (type)                   Output Shape         Param #     Connected to                     \n",
            "==================================================================================================\n",
            " input_2 (InputLayer)           [(None, 120, 120, 3  0           []                               \n",
            "                                )]                                                                \n",
            "                                                                                                  \n",
            " vgg16 (Functional)             (None, None, None,   14714688    ['input_2[0][0]']                \n",
            "                                512)                                                              \n",
            "                                                                                                  \n",
            " global_max_pooling2d (GlobalMa  (None, 512)         0           ['vgg16[0][0]']                  \n",
            " xPooling2D)                                                                                      \n",
            "                                                                                                  \n",
            " global_max_pooling2d_1 (Global  (None, 512)         0           ['vgg16[0][0]']                  \n",
            " MaxPooling2D)                                                                                    \n",
            "                                                                                                  \n",
            " dense (Dense)                  (None, 2048)         1050624     ['global_max_pooling2d[0][0]']   \n",
            "                                                                                                  \n",
            " dense_2 (Dense)                (None, 2048)         1050624     ['global_max_pooling2d_1[0][0]'] \n",
            "                                                                                                  \n",
            " dense_1 (Dense)                (None, 1)            2049        ['dense[0][0]']                  \n",
            "                                                                                                  \n",
            " dense_3 (Dense)                (None, 4)            8196        ['dense_2[0][0]']                \n",
            "                                                                                                  \n",
            "==================================================================================================\n",
            "Total params: 16,826,181\n",
            "Trainable params: 16,826,181\n",
            "Non-trainable params: 0\n",
            "__________________________________________________________________________________________________\n"
          ]
        }
      ]
    },
    {
      "cell_type": "code",
      "source": [
        "X, y = train.as_numpy_iterator().next()"
      ],
      "metadata": {
        "id": "dHblExP-4vUg"
      },
      "execution_count": null,
      "outputs": []
    },
    {
      "cell_type": "code",
      "source": [
        "X.shape"
      ],
      "metadata": {
        "id": "4fpDNyl64yqo"
      },
      "execution_count": null,
      "outputs": []
    },
    {
      "cell_type": "code",
      "source": [
        "classes, coords = facetracker.predict(X)\n"
      ],
      "metadata": {
        "id": "HRzGggFU407Z"
      },
      "execution_count": null,
      "outputs": []
    },
    {
      "cell_type": "code",
      "source": [
        "classes, coords\n"
      ],
      "metadata": {
        "id": "p2j_Andf42f3"
      },
      "execution_count": null,
      "outputs": []
    },
    {
      "cell_type": "markdown",
      "source": [
        "Kayıpları ve Optimize Edicileri Tanımlama\n",
        "\n",
        " Optimize Edici ve LR'yi Tanımlama"
      ],
      "metadata": {
        "id": "AFH52qZa44jR"
      }
    },
    {
      "cell_type": "code",
      "source": [
        "batches_per_epoch = len(train)\n",
        "lr_decay = (1./0.75 -1)/batches_per_epoch"
      ],
      "metadata": {
        "id": "wr4-n1mX5Bqx"
      },
      "execution_count": null,
      "outputs": []
    },
    {
      "cell_type": "code",
      "source": [
        "opt = tf.keras.optimizers.Adam(learning_rate=0.0001, decay=lr_decay)"
      ],
      "metadata": {
        "id": "INAUE7pn5EQD"
      },
      "execution_count": null,
      "outputs": []
    },
    {
      "cell_type": "markdown",
      "source": [
        "Yerelleştirme Kaybı ve Kayıp Sınıflandırma"
      ],
      "metadata": {
        "id": "sUWq_Vsv5GIC"
      }
    },
    {
      "cell_type": "code",
      "source": [
        "def localization_loss(y_true, yhat):            \n",
        "    delta_coord = tf.reduce_sum(tf.square(y_true[:,:2] - yhat[:,:2]))\n",
        "                  \n",
        "    h_true = y_true[:,3] - y_true[:,1] \n",
        "    w_true = y_true[:,2] - y_true[:,0] \n",
        "\n",
        "    h_pred = yhat[:,3] - yhat[:,1] \n",
        "    w_pred = yhat[:,2] - yhat[:,0] \n",
        "    \n",
        "    delta_size = tf.reduce_sum(tf.square(w_true - w_pred) + tf.square(h_true-h_pred))\n",
        "    \n",
        "    return delta_coord + delta_size"
      ],
      "metadata": {
        "id": "4aUc5bbE5UWE"
      },
      "execution_count": 62,
      "outputs": []
    },
    {
      "cell_type": "code",
      "source": [
        "classloss = tf.keras.losses.BinaryCrossentropy()\n",
        "regressloss = localization_loss"
      ],
      "metadata": {
        "id": "4yWzD-zh5XX7"
      },
      "execution_count": 63,
      "outputs": []
    },
    {
      "cell_type": "markdown",
      "source": [
        "Kayıp Metriklerini test etme"
      ],
      "metadata": {
        "id": "jurAAdOx5YkY"
      }
    },
    {
      "cell_type": "code",
      "source": [
        "localization_loss(y[1], coords)"
      ],
      "metadata": {
        "id": "-AlKEgcG5eB4"
      },
      "execution_count": null,
      "outputs": []
    },
    {
      "cell_type": "code",
      "source": [
        "classloss(y[0], classes)"
      ],
      "metadata": {
        "id": "U-RTBbbb5fZS"
      },
      "execution_count": null,
      "outputs": []
    },
    {
      "cell_type": "code",
      "source": [
        "regressloss(y[1], coords)"
      ],
      "metadata": {
        "id": "oTQ0uD7b5hQc"
      },
      "execution_count": null,
      "outputs": []
    },
    {
      "cell_type": "markdown",
      "source": [
        "Train Sinir Ağı\n",
        "Özel Model Sınıfı Oluşturma"
      ],
      "metadata": {
        "id": "VK4vxAjA5k80"
      }
    },
    {
      "cell_type": "code",
      "source": [
        "class FaceTracker(Model): \n",
        "    def __init__(self, eyetracker,  **kwargs): \n",
        "        super().__init__(**kwargs)\n",
        "        self.model = eyetracker\n",
        "\n",
        "    def compile(self, opt, classloss, localizationloss, **kwargs):\n",
        "        super().compile(**kwargs)\n",
        "        self.closs = classloss\n",
        "        self.lloss = localizationloss\n",
        "        self.opt = opt\n",
        "    \n",
        "    def train_step(self, batch, **kwargs): \n",
        "        \n",
        "        X, y = batch\n",
        "        \n",
        "        with tf.GradientTape() as tape: \n",
        "            classes, coords = self.model(X, training=True)\n",
        "            \n",
        "            batch_classloss = self.closs(y[0], classes)\n",
        "            batch_localizationloss = self.lloss(tf.cast(y[1], tf.float32), coords)\n",
        "            \n",
        "            total_loss = batch_localizationloss+0.5*batch_classloss\n",
        "            \n",
        "            grad = tape.gradient(total_loss, self.model.trainable_variables)\n",
        "        \n",
        "        opt.apply_gradients(zip(grad, self.model.trainable_variables))\n",
        "        \n",
        "        return {\"total_loss\":total_loss, \"class_loss\":batch_classloss, \"regress_loss\":batch_localizationloss}\n",
        "    \n",
        "    def test_step(self, batch, **kwargs): \n",
        "        X, y = batch\n",
        "        \n",
        "        classes, coords = self.model(X, training=False)\n",
        "        \n",
        "        batch_classloss = self.closs(y[0], classes)\n",
        "        batch_localizationloss = self.lloss(tf.cast(y[1], tf.float32), coords)\n",
        "        total_loss = batch_localizationloss+0.5*batch_classloss\n",
        "        \n",
        "        return {\"total_loss\":total_loss, \"class_loss\":batch_classloss, \"regress_loss\":batch_localizationloss}\n",
        "        \n",
        "    def call(self, X, **kwargs): \n",
        "        return self.model(X, **kwargs)"
      ],
      "metadata": {
        "id": "InE2j1KF5pxt"
      },
      "execution_count": 64,
      "outputs": []
    },
    {
      "cell_type": "code",
      "source": [
        "model = FaceTracker(facetracker)"
      ],
      "metadata": {
        "id": "l03zw8x65uin"
      },
      "execution_count": 65,
      "outputs": []
    },
    {
      "cell_type": "code",
      "source": [
        "model.compile(opt, classloss, regressloss)"
      ],
      "metadata": {
        "id": "TYDk6aDx5xUq"
      },
      "execution_count": null,
      "outputs": []
    },
    {
      "cell_type": "markdown",
      "source": [
        "Train"
      ],
      "metadata": {
        "id": "YkmK4NBO5z7W"
      }
    },
    {
      "cell_type": "code",
      "source": [
        "logdir='logs'"
      ],
      "metadata": {
        "id": "oRXpAK_l5zeF"
      },
      "execution_count": 67,
      "outputs": []
    },
    {
      "cell_type": "code",
      "source": [
        "tensorboard_callback = tf.keras.callbacks.TensorBoard(log_dir=logdir)\n"
      ],
      "metadata": {
        "id": "2pCGUgmV56L_"
      },
      "execution_count": 68,
      "outputs": []
    },
    {
      "cell_type": "code",
      "source": [
        "hist = model.fit(train, epochs=10, validation_data=val, callbacks=[tensorboard_callback])\n"
      ],
      "metadata": {
        "id": "TxOSZLXE58QW"
      },
      "execution_count": null,
      "outputs": []
    },
    {
      "cell_type": "markdown",
      "source": [
        "Plot Performance"
      ],
      "metadata": {
        "id": "-EcfXhM05-z-"
      }
    },
    {
      "cell_type": "code",
      "source": [
        "hist.history"
      ],
      "metadata": {
        "id": "jGS73D0b6CJH"
      },
      "execution_count": null,
      "outputs": []
    },
    {
      "cell_type": "code",
      "source": [
        "fig, ax = plt.subplots(ncols=3, figsize=(20,5))\n",
        "\n",
        "ax[0].plot(hist.history['total_loss'], color='teal', label='loss')\n",
        "ax[0].plot(hist.history['val_total_loss'], color='orange', label='val loss')\n",
        "ax[0].title.set_text('Loss')\n",
        "ax[0].legend()\n",
        "\n",
        "ax[1].plot(hist.history['class_loss'], color='teal', label='class loss')\n",
        "ax[1].plot(hist.history['val_class_loss'], color='orange', label='val class loss')\n",
        "ax[1].title.set_text('Classification Loss')\n",
        "ax[1].legend()\n",
        "\n",
        "ax[2].plot(hist.history['regress_loss'], color='teal', label='regress loss')\n",
        "ax[2].plot(hist.history['val_regress_loss'], color='orange', label='val regress loss')\n",
        "ax[2].title.set_text('Regression Loss')\n",
        "ax[2].legend()\n",
        "\n",
        "plt.show()"
      ],
      "metadata": {
        "id": "eCWhxU5c6Evm"
      },
      "execution_count": null,
      "outputs": []
    },
    {
      "cell_type": "markdown",
      "source": [
        "Tahminler Yap\n",
        "Test Setinde Tahmin Yapma"
      ],
      "metadata": {
        "id": "6FxIhRiP6J39"
      }
    },
    {
      "cell_type": "code",
      "source": [
        "test_data = test.as_numpy_iterator()\n"
      ],
      "metadata": {
        "id": "uePowU2L6Mjj"
      },
      "execution_count": null,
      "outputs": []
    },
    {
      "cell_type": "code",
      "source": [
        "test_sample = test_data.next()\n"
      ],
      "metadata": {
        "id": "XnRDDDLe6OcQ"
      },
      "execution_count": null,
      "outputs": []
    },
    {
      "cell_type": "code",
      "source": [
        "yhat = facetracker.predict(test_sample[0])\n"
      ],
      "metadata": {
        "id": "YyK2JZ5-6QXh"
      },
      "execution_count": null,
      "outputs": []
    },
    {
      "cell_type": "code",
      "source": [
        "fig, ax = plt.subplots(ncols=4, figsize=(20,20))\n",
        "for idx in range(4): \n",
        "    sample_image = test_sample[0][idx]\n",
        "    sample_coords = yhat[1][idx]\n",
        "    \n",
        "    if yhat[0][idx] > 0.9:\n",
        "        cv2.rectangle(sample_image, \n",
        "                      tuple(np.multiply(sample_coords[:2], [120,120]).astype(int)),\n",
        "                      tuple(np.multiply(sample_coords[2:], [120,120]).astype(int)), \n",
        "                            (255,0,0), 2)\n",
        "    \n",
        "    ax[idx].imshow(sample_image)"
      ],
      "metadata": {
        "id": "FwKop0ec6SFJ"
      },
      "execution_count": null,
      "outputs": []
    },
    {
      "cell_type": "markdown",
      "source": [
        "Modeli Kaydetme"
      ],
      "metadata": {
        "id": "BMkk97dQ6T6T"
      }
    },
    {
      "cell_type": "code",
      "source": [
        "from tensorflow.keras.models import load_model"
      ],
      "metadata": {
        "id": "-5hsUsaA6YOi"
      },
      "execution_count": 73,
      "outputs": []
    },
    {
      "cell_type": "code",
      "source": [
        "facetracker.save('facetracker.h5')"
      ],
      "metadata": {
        "colab": {
          "base_uri": "https://localhost:8080/"
        },
        "id": "nhnAyDRg6aWK",
        "outputId": "2c023e42-99ef-4890-bfdc-62525a5740a5"
      },
      "execution_count": 74,
      "outputs": [
        {
          "output_type": "stream",
          "name": "stderr",
          "text": [
            "WARNING:tensorflow:Compiled the loaded model, but the compiled metrics have yet to be built. `model.compile_metrics` will be empty until you train or evaluate the model.\n"
          ]
        }
      ]
    },
    {
      "cell_type": "code",
      "source": [
        "facetracker = load_model('facetracker.h5')\n"
      ],
      "metadata": {
        "colab": {
          "base_uri": "https://localhost:8080/"
        },
        "id": "WpwsnIoo6bty",
        "outputId": "5367e0b8-f1c0-4e29-bc2c-7f65b0535057"
      },
      "execution_count": 75,
      "outputs": [
        {
          "output_type": "stream",
          "name": "stderr",
          "text": [
            "WARNING:tensorflow:No training configuration found in the save file, so the model was *not* compiled. Compile it manually.\n"
          ]
        }
      ]
    },
    {
      "cell_type": "markdown",
      "source": [
        "Gerçek Zamanlı Tespit"
      ],
      "metadata": {
        "id": "mS9G0fBp6e4W"
      }
    },
    {
      "cell_type": "code",
      "source": [
        "cap = cv2.VideoCapture(1)\n",
        "while cap.isOpened():\n",
        "    _ , frame = cap.read()\n",
        "    frame = frame[50:500, 50:500,:]\n",
        "    \n",
        "    rgb = cv2.cvtColor(frame, cv2.COLOR_BGR2RGB)\n",
        "    resized = tf.image.resize(rgb, (120,120))\n",
        "    \n",
        "    yhat = facetracker.predict(np.expand_dims(resized/255,0))\n",
        "    sample_coords = yhat[1][0]\n",
        "    \n",
        "    if yhat[0] > 0.5: \n",
        "        # Ana dikdörtgeni kontrol eder\n",
        "        cv2.rectangle(frame, \n",
        "                      tuple(np.multiply(sample_coords[:2], [450,450]).astype(int)),\n",
        "                      tuple(np.multiply(sample_coords[2:], [450,450]).astype(int)), \n",
        "                            (255,0,0), 2)\n",
        "        # Etiket dikdörtgenini kontrol eder\n",
        "        cv2.rectangle(frame, \n",
        "                      tuple(np.add(np.multiply(sample_coords[:2], [450,450]).astype(int), \n",
        "                                    [0,-30])),\n",
        "                      tuple(np.add(np.multiply(sample_coords[:2], [450,450]).astype(int),\n",
        "                                    [80,0])), \n",
        "                            (255,0,0), -1)\n",
        "        \n",
        "        # İşlenen metni kontrol eder\n",
        "        cv2.putText(frame, 'face', tuple(np.add(np.multiply(sample_coords[:2], [450,450]).astype(int),\n",
        "                                               [0,-5])),\n",
        "                    cv2.FONT_HERSHEY_SIMPLEX, 1, (255,255,255), 2, cv2.LINE_AA)\n",
        "    \n",
        "    cv2.imshow('EyeTrack', frame)\n",
        "    \n",
        "    if cv2.waitKey(1) & 0xFF == ord('q'):\n",
        "        break\n",
        "cap.release()\n",
        "cv2.destroyAllWindows()"
      ],
      "metadata": {
        "id": "ixLzXXTf6h7V"
      },
      "execution_count": 76,
      "outputs": []
    }
  ]
}